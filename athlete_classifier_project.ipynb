{
  "nbformat": 4,
  "nbformat_minor": 0,
  "metadata": {
    "colab": {
      "provenance": []
    },
    "kernelspec": {
      "name": "python3",
      "display_name": "Python 3"
    },
    "language_info": {
      "name": "python"
    }
  },
  "cells": [
    {
      "cell_type": "code",
      "source": [
        "import pandas as pd\n",
        "import numpy as np\n",
        "\n",
        "np.random.seed(42)\n",
        "\n",
        "n = 200\n",
        "\n",
        "data = {\n",
        "    'height_cm': np.random.normal(170, 10, n),\n",
        "    'weight_kg': np.random.normal(70, 15, n),\n",
        "    'age': np.random.randint(18, 60, n),\n",
        "    'sleep_hours': np.random.normal(7, 1.5, n),\n",
        "    'workout_days_per_week': np.random.randint(0, 7, n),\n",
        "    'daily_calories': np.random.normal(2200, 500, n),\n",
        "    'body_fat_percent': np.random.normal(20, 8, n),\n",
        "}\n",
        "\n",
        "df = pd.DataFrame(data)\n",
        "\n",
        "def label(row):\n",
        "    if row['workout_days_per_week'] > 3 and row['body_fat_percent'] < 18 and row['sleep_hours'] > 6:\n",
        "        return 1\n",
        "    else:\n",
        "        return 0\n",
        "\n",
        "df['is_athlete'] = df.apply(label, axis=1)\n",
        "\n",
        "df.head()\n",
        "\n",
        "from sklearn.model_selection import train_test_split\n",
        "from sklearn.linear_model import LogisticRegression\n",
        "from sklearn.metrics import accuracy_score, classification_report\n",
        "\n",
        "X = df.drop('is_athlete', axis=1)\n",
        "y = df['is_athlete']\n",
        "\n",
        "X_train, X_test, y_train, y_test = train_test_split(X, y, test_size=0.2, random_state=42)\n",
        "\n",
        "model = LogisticRegression()\n",
        "model.fit(X_train, y_train)\n",
        "\n",
        "y_pred = model.predict(X_test)\n",
        "\n",
        "print(\"Accuracy:\", accuracy_score(y_test, y_pred))\n",
        "print(classification_report(y_test, y_pred))\n"
      ],
      "metadata": {
        "colab": {
          "base_uri": "https://localhost:8080/"
        },
        "id": "AElv3dswwCkC",
        "outputId": "63b08eee-ade8-4244-e8c9-ad1fd9b1d607"
      },
      "execution_count": 1,
      "outputs": [
        {
          "output_type": "stream",
          "name": "stdout",
          "text": [
            "Accuracy: 0.9\n",
            "              precision    recall  f1-score   support\n",
            "\n",
            "           0       0.95      0.95      0.95        37\n",
            "           1       0.33      0.33      0.33         3\n",
            "\n",
            "    accuracy                           0.90        40\n",
            "   macro avg       0.64      0.64      0.64        40\n",
            "weighted avg       0.90      0.90      0.90        40\n",
            "\n"
          ]
        },
        {
          "output_type": "stream",
          "name": "stderr",
          "text": [
            "/usr/local/lib/python3.11/dist-packages/sklearn/linear_model/_logistic.py:465: ConvergenceWarning: lbfgs failed to converge (status=1):\n",
            "STOP: TOTAL NO. OF ITERATIONS REACHED LIMIT.\n",
            "\n",
            "Increase the number of iterations (max_iter) or scale the data as shown in:\n",
            "    https://scikit-learn.org/stable/modules/preprocessing.html\n",
            "Please also refer to the documentation for alternative solver options:\n",
            "    https://scikit-learn.org/stable/modules/linear_model.html#logistic-regression\n",
            "  n_iter_i = _check_optimize_result(\n"
          ]
        }
      ]
    }
  ]
}