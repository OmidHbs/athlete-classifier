import pandas as pd
import numpy as np

np.random.seed(42)

n = 200

data = {
    'height_cm': np.random.normal(170, 10, n),
    'weight_kg': np.random.normal(70, 15, n),
    'age': np.random.randint(18, 60, n),
    'sleep_hours': np.random.normal(7, 1.5, n),
    'workout_days_per_week': np.random.randint(0, 7, n),
    'daily_calories': np.random.normal(2200, 500, n),
    'body_fat_percent': np.random.normal(20, 8, n),
}

df = pd.DataFrame(data)

def label(row):
    if row['workout_days_per_week'] > 3 and row['body_fat_percent'] < 18 and row['sleep_hours'] > 6:
        return 1
    else:
        return 0

df['is_athlete'] = df.apply(label, axis=1)

df.head()

from sklearn.model_selection import train_test_split
from sklearn.linear_model import LogisticRegression
from sklearn.metrics import accuracy_score, classification_report

X = df.drop('is_athlete', axis=1)
y = df['is_athlete']

X_train, X_test, y_train, y_test = train_test_split(X, y, test_size=0.2, random_state=42)

model = LogisticRegression()
model.fit(X_train, y_train)

y_pred = model.predict(X_test)

print("Accuracy:", accuracy_score(y_test, y_pred))
print(classification_report(y_test, y_pred))
